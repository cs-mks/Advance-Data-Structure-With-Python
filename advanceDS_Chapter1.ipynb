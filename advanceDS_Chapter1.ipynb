{
 "cells": [
  {
   "cell_type": "code",
   "execution_count": 3,
   "id": "1c6f071b-dd2e-45f1-a987-7bfce49cf772",
   "metadata": {},
   "outputs": [
    {
     "data": {
      "text/plain": [
       "' 1. Write a short Python function, is multiple(n, m), that takes two integer values and returns True if n is a multiple of m, that is, n = mi for some integer i, and False otherwise.'"
      ]
     },
     "execution_count": 3,
     "metadata": {},
     "output_type": "execute_result"
    }
   ],
   "source": [
    "\"\"\" 1. Write a short Python function, is multiple(n, m), that takes two integer values and returns True if n is a multiple of m, that is, n = mi for some integer i, and False otherwise.\"\"\""
   ]
  },
  {
   "cell_type": "code",
   "execution_count": 8,
   "id": "ba0e2425-d80d-463a-a809-1b7518e4fec6",
   "metadata": {},
   "outputs": [
    {
     "name": "stdout",
     "output_type": "stream",
     "text": [
      "\n",
      "Nope! 15 is NOT a factor of 3\n",
      "Yes! 15 is a factor of 3\n"
     ]
    }
   ],
   "source": [
    "def is_multiple(n,m):\n",
    "    \"\"\" Checks if n is a factor of m where n<=m \"\"\"\n",
    "    try:\n",
    "        if m%n == 0:\n",
    "            print(\"Yes! {0} is a factor of {1}\".format(m,n))\n",
    "        else:\n",
    "            print(\"\\nNope! {0} is NOT a factor of {1}\".format(n,m))\n",
    "    except Exception as excpt:\n",
    "        print (\"Error!\", excpt)\n",
    "    return\n",
    "is_multiple(15,3)\n",
    "is_multiple(3,15)"
   ]
  },
  {
   "cell_type": "code",
   "execution_count": 9,
   "id": "44c468fa-bf50-4fb4-94ed-2b0145b77b69",
   "metadata": {},
   "outputs": [
    {
     "data": {
      "text/plain": [
       "'R-1.2 Write a short Python function, is even(k), that takes an integer value and returns True if k is even, and False otherwise. However, your function cannot use the multiplication, modulo, or division operators.'"
      ]
     },
     "execution_count": 9,
     "metadata": {},
     "output_type": "execute_result"
    }
   ],
   "source": [
    "\"\"\"R-1.2 Write a short Python function, is even(k), that takes an integer value and returns True if k is even, and False otherwise. However, your function cannot use the multiplication, modulo, or division operators.\"\"\""
   ]
  },
  {
   "cell_type": "code",
   "execution_count": 14,
   "id": "016a72b9-71e3-4edc-9236-6a7b40b4d0b0",
   "metadata": {},
   "outputs": [
    {
     "name": "stdin",
     "output_type": "stream",
     "text": [
      "Please enter k:  7\n"
     ]
    },
    {
     "name": "stdout",
     "output_type": "stream",
     "text": [
      "false!\n"
     ]
    }
   ],
   "source": [
    "def is_even(k):\n",
    "    return True if k[-1] == (0 or 2 or 4 or 6 or 8) else False\n",
    "k=input('Please enter k: ')\n",
    "result = is_even(list(k))\n",
    "print('true!') if result is True else print('false!')"
   ]
  },
  {
   "cell_type": "code",
   "execution_count": 15,
   "id": "07345243-b4ee-4ddc-bffb-09fafa0191ff",
   "metadata": {},
   "outputs": [
    {
     "data": {
      "text/plain": [
       "'R-1.3 Write a short Python function, minmax(data), that takes a sequence of one or more numbers, and returns the smallest and largest numbers, in the form of a tuple of length two. Do not use the built-in functions min or max in implementing your solution '"
      ]
     },
     "execution_count": 15,
     "metadata": {},
     "output_type": "execute_result"
    }
   ],
   "source": [
    "\"\"\"R-1.3 Write a short Python function, minmax(data), that takes a sequence of one or more numbers, and returns the smallest and largest numbers, in the form of a tuple of length two. Do not use the built-in functions min or max in implementing your solution \"\"\""
   ]
  },
  {
   "cell_type": "code",
   "execution_count": 8,
   "id": "3e3cd37f-79da-4f0e-828c-51c2ed8e8a69",
   "metadata": {},
   "outputs": [
    {
     "name": "stdout",
     "output_type": "stream",
     "text": [
      "(2, 99)\n"
     ]
    }
   ],
   "source": [
    "def minmax(data):\n",
    "    largest = data[0]\n",
    "    smallest = data[0]\n",
    "    for item in data:\n",
    "        if item > largest:\n",
    "            largest = item\n",
    "        elif item < smallest:\n",
    "            smallest = item\n",
    "    return smallest, largest\n",
    "alpha = [2,2,3,4,5,6,7,8,99]\n",
    "print(minmax(alpha))\n",
    "            "
   ]
  },
  {
   "cell_type": "code",
   "execution_count": 17,
   "id": "b2342613-f7d1-412d-921d-e96ac1a99665",
   "metadata": {},
   "outputs": [
    {
     "data": {
      "text/plain": [
       "' R-1.4 Write a short Python function that takes a positive integer n and returns the sum of the squares of all the positive integers smaller than n.'"
      ]
     },
     "execution_count": 17,
     "metadata": {},
     "output_type": "execute_result"
    }
   ],
   "source": [
    "\"\"\" R-1.4 Write a short Python function that takes a positive integer n and returns the sum of the squares of all the positive integers smaller than n.\"\"\""
   ]
  },
  {
   "cell_type": "code",
   "execution_count": 18,
   "id": "031adb2e-9355-4d86-8e99-649f3284d898",
   "metadata": {},
   "outputs": [
    {
     "name": "stdout",
     "output_type": "stream",
     "text": [
      "sum of square\n",
      "14\n"
     ]
    }
   ],
   "source": [
    "def sum_of_squares(n):\n",
    "    n-=1\n",
    "    total = 0\n",
    "    while n>0:\n",
    "        total += n*n\n",
    "        n-=1\n",
    "    return total\n",
    "print('sum of square')\n",
    "print(sum_of_squares(4))"
   ]
  },
  {
   "cell_type": "code",
   "execution_count": 20,
   "id": "428417c6-28e9-4a52-b0d7-f372434a4a22",
   "metadata": {},
   "outputs": [
    {
     "data": {
      "text/plain": [
       "' R-1.5 Give a single command that computes the sum from Exercise R-1.4, relying on Python’s comprehension syntax and the built-in sum function '"
      ]
     },
     "execution_count": 20,
     "metadata": {},
     "output_type": "execute_result"
    }
   ],
   "source": [
    "\"\"\" R-1.5 Give a single command that computes the sum from Exercise R-1.4, relying on Python’s comprehension syntax and the built-in sum function \"\"\""
   ]
  },
  {
   "cell_type": "code",
   "execution_count": 21,
   "id": "5df43683-a613-4c85-a937-4074ac857d10",
   "metadata": {},
   "outputs": [
    {
     "name": "stdout",
     "output_type": "stream",
     "text": [
      "14\n"
     ]
    }
   ],
   "source": [
    "def sum_of_squares2(n):\n",
    "    return sum([k*k for k in range(0,n)])\n",
    "print(sum_of_squares2(4))"
   ]
  },
  {
   "cell_type": "code",
   "execution_count": 22,
   "id": "9a28e6df-14ef-4ea9-8c75-39644d9ae337",
   "metadata": {},
   "outputs": [
    {
     "data": {
      "text/plain": [
       "'R-1.6 Write a short Python function that takes a positive integer n and returns the sum of the squares of all the odd positive integers smaller than n.'"
      ]
     },
     "execution_count": 22,
     "metadata": {},
     "output_type": "execute_result"
    }
   ],
   "source": [
    "\"\"\"R-1.6 Write a short Python function that takes a positive integer n and returns the sum of the squares of all the odd positive integers smaller than n.\"\"\""
   ]
  },
  {
   "cell_type": "code",
   "execution_count": 24,
   "id": "ce3f6edb-8f9a-4628-a252-c3896f00eb5d",
   "metadata": {},
   "outputs": [
    {
     "name": "stdout",
     "output_type": "stream",
     "text": [
      "sum of squares odd\n",
      "10\n"
     ]
    }
   ],
   "source": [
    "def sum_of_squares_odd(n):\n",
    "    n-=1\n",
    "    total = 0\n",
    "    while n>0:\n",
    "        if n%2!=0:\n",
    "            total+=n*n\n",
    "        n-=1\n",
    "    return total\n",
    "print('sum of squares odd')\n",
    "print(sum_of_squares_odd(4))"
   ]
  },
  {
   "cell_type": "code",
   "execution_count": 26,
   "id": "53270b0d-cd24-4fe1-bb77-26a0301b4a32",
   "metadata": {},
   "outputs": [
    {
     "data": {
      "text/plain": [
       "'R-1.7 Give a single command that computes the sum from Exercise R-1.6, relying on Python’s comprehension syntax and the built-in sum function'"
      ]
     },
     "execution_count": 26,
     "metadata": {},
     "output_type": "execute_result"
    }
   ],
   "source": [
    "\"\"\"R-1.7 Give a single command that computes the sum from Exercise R-1.6, relying on Python’s comprehension syntax and the built-in sum function\"\"\""
   ]
  },
  {
   "cell_type": "code",
   "execution_count": 28,
   "id": "6c88056e-eb2e-4ec2-ab2e-8270acc09d22",
   "metadata": {},
   "outputs": [
    {
     "name": "stdout",
     "output_type": "stream",
     "text": [
      "10\n"
     ]
    }
   ],
   "source": [
    "def sum_of_squares_odd2(n):\n",
    "    return sum([k*k for k in range(0,n) if k%2!=0])\n",
    "print(sum_of_squares_odd2(4))"
   ]
  },
  {
   "cell_type": "code",
   "execution_count": 30,
   "id": "5a516e40-24c4-4ecc-8966-618274956939",
   "metadata": {},
   "outputs": [
    {
     "data": {
      "text/plain": [
       "'R-1.8 Python allows negative integers to be used as indices into a sequence, such as a string. If string s has length n, and expression s[k] is used for index −n ≤ k < 0, what is the equivalent index j ≥ 0 such that s[j] references the same element?'"
      ]
     },
     "execution_count": 30,
     "metadata": {},
     "output_type": "execute_result"
    }
   ],
   "source": [
    "\"\"\"R-1.8 Python allows negative integers to be used as indices into a sequence, such as a string. If string s has length n, and expression s[k] is used for index −n ≤ k < 0, what is the equivalent index j ≥ 0 such that s[j] references the same element?\"\"\""
   ]
  },
  {
   "cell_type": "code",
   "execution_count": 31,
   "id": "9d2c59e1-160b-4250-99c3-11a914a866e1",
   "metadata": {},
   "outputs": [
    {
     "name": "stdout",
     "output_type": "stream",
     "text": [
      "p\n",
      "y\n",
      "t\n",
      "h\n",
      "o\n",
      "n\n",
      "s\n",
      "t\n",
      "r\n",
      "i\n",
      "n\n",
      "g\n",
      "p\n",
      "y\n",
      "t\n",
      "h\n",
      "o\n",
      "n\n",
      "s\n",
      "t\n",
      "r\n",
      "i\n",
      "n\n",
      "g\n"
     ]
    }
   ],
   "source": [
    "s=\"pythonstring\"\n",
    "n=len(s)\n",
    "for k in range(-n,0):\n",
    "    print(s[k])\n",
    "    \n",
    "for j in range(-n, 0):\n",
    "    print(s[j+n])"
   ]
  },
  {
   "cell_type": "code",
   "execution_count": 32,
   "id": "16b72e0c-c6da-440e-88ff-4385d34e9001",
   "metadata": {},
   "outputs": [
    {
     "data": {
      "text/plain": [
       "'R-1.9 What parameters should be sent to the range constructor, to produce a range with values 50, 60, 70, 80?'"
      ]
     },
     "execution_count": 32,
     "metadata": {},
     "output_type": "execute_result"
    }
   ],
   "source": [
    "\"\"\"R-1.9 What parameters should be sent to the range constructor, to produce a range with values 50, 60, 70, 80?\"\"\""
   ]
  },
  {
   "cell_type": "code",
   "execution_count": 35,
   "id": "544c4e40-6ea5-4091-b9a0-902ed223beaf",
   "metadata": {},
   "outputs": [
    {
     "name": "stdout",
     "output_type": "stream",
     "text": [
      "50, 60, 70, 80, "
     ]
    }
   ],
   "source": [
    "for it in range(50, 90, +10):\n",
    "    print(it, end = \", \")"
   ]
  },
  {
   "cell_type": "code",
   "execution_count": 36,
   "id": "4c9181c9-f4a8-433a-844b-9510fc5a58ad",
   "metadata": {},
   "outputs": [
    {
     "data": {
      "text/plain": [
       "[50, 60, 70, 80]"
      ]
     },
     "execution_count": 36,
     "metadata": {},
     "output_type": "execute_result"
    }
   ],
   "source": [
    "list(range(50, 90, +10))"
   ]
  },
  {
   "cell_type": "code",
   "execution_count": 38,
   "id": "5d0616ed-b5b7-4545-ba75-a8d9ebd2cbcf",
   "metadata": {},
   "outputs": [
    {
     "data": {
      "text/plain": [
       "'R-1.10 What parameters should be sent to the range constructor, to produce a range with values 8, 6, 4, 2, 0, −2, −4, −6, −8?'"
      ]
     },
     "execution_count": 38,
     "metadata": {},
     "output_type": "execute_result"
    }
   ],
   "source": [
    "\"\"\"R-1.10 What parameters should be sent to the range constructor, to produce a range with values 8, 6, 4, 2, 0, −2, −4, −6, −8?\"\"\""
   ]
  },
  {
   "cell_type": "code",
   "execution_count": 39,
   "id": "60a30839-4470-4b44-b736-1f7017f01eef",
   "metadata": {},
   "outputs": [
    {
     "name": "stdout",
     "output_type": "stream",
     "text": [
      "8, 6, 4, 2, 0, -2, -4, -6, -8, "
     ]
    }
   ],
   "source": [
    "for it in range(8, -10, -2):\n",
    "    print(it, end = \", \")"
   ]
  },
  {
   "cell_type": "code",
   "execution_count": 41,
   "id": "a0730bdd-0feb-4c89-8046-cd9afee1aa81",
   "metadata": {},
   "outputs": [
    {
     "data": {
      "text/plain": [
       "[8, 6, 4, 2, 0, -2, -4, -6, -8]"
      ]
     },
     "execution_count": 41,
     "metadata": {},
     "output_type": "execute_result"
    }
   ],
   "source": [
    "list(range(8, -10, -2))"
   ]
  },
  {
   "cell_type": "code",
   "execution_count": 42,
   "id": "7c8c321d-46e6-4e59-aacc-33b2a4d2cb34",
   "metadata": {},
   "outputs": [
    {
     "data": {
      "text/plain": [
       "'R-1.11 Demonstrate how to use Python’s list comprehension syntax to produce the list [1, 2, 4, 8, 16, 32, 64, 128, 256].'"
      ]
     },
     "execution_count": 42,
     "metadata": {},
     "output_type": "execute_result"
    }
   ],
   "source": [
    "\"\"\"R-1.11 Demonstrate how to use Python’s list comprehension syntax to produce the list [1, 2, 4, 8, 16, 32, 64, 128, 256].\"\"\""
   ]
  },
  {
   "cell_type": "code",
   "execution_count": 43,
   "id": "0ec1e021-0b76-4a21-aa35-b0d89e0be219",
   "metadata": {},
   "outputs": [
    {
     "name": "stdout",
     "output_type": "stream",
     "text": [
      "[1, 2, 4, 8, 16, 32, 64, 128, 256]\n"
     ]
    }
   ],
   "source": [
    "print([pow(2,k) for k in range(0, 9,+1)])"
   ]
  },
  {
   "cell_type": "code",
   "execution_count": 45,
   "id": "e447cea1-41d1-4944-9d9e-58ba7a081ecc",
   "metadata": {},
   "outputs": [
    {
     "data": {
      "text/plain": [
       "'R-1.12 Python’s random module includes a function choice(data) that returns a random element from a non-empty sequence. The random module includes a more basic function randrange, with parameterization similar to the built-in range function, that return a random choice from the given range. Using only the randrange function, implement your own version of the choice function.'"
      ]
     },
     "execution_count": 45,
     "metadata": {},
     "output_type": "execute_result"
    }
   ],
   "source": [
    "\"\"\"R-1.12 Python’s random module includes a function choice(data) that returns a random element from a non-empty sequence. The random module includes a more basic function randrange, with parameterization similar to the built-in range function, that return a random choice from the given range. Using only the randrange function, implement your own version of the choice function.\"\"\""
   ]
  },
  {
   "cell_type": "code",
   "execution_count": 47,
   "id": "8f7e6ef8-63a1-4eb3-b7be-84180462922b",
   "metadata": {},
   "outputs": [
    {
     "name": "stdout",
     "output_type": "stream",
     "text": [
      "3\n"
     ]
    }
   ],
   "source": [
    "import random\n",
    "def my_choice(data):\n",
    "    return data[random.randrange(0, len(data) - 1)]\n",
    "print(my_choice(alpha))"
   ]
  },
  {
   "cell_type": "code",
   "execution_count": 1,
   "id": "6e8295c8-8cfb-476b-b9fd-83acd1f441d9",
   "metadata": {},
   "outputs": [
    {
     "data": {
      "text/plain": [
       "'C-1.13 Write a pseudo-code description of a function that reverses a list of n integers, so that the numbers are listed in the opposite order than they were before, and compare this method to an equivalent Python function for doing the same thing.'"
      ]
     },
     "execution_count": 1,
     "metadata": {},
     "output_type": "execute_result"
    }
   ],
   "source": [
    "\"\"\"C-1.13 Write a pseudo-code description of a function that reverses a list of n integers, so that the numbers are listed in the opposite order than they were before, and compare this method to an equivalent Python function for doing the same thing.\"\"\""
   ]
  },
  {
   "cell_type": "code",
   "execution_count": 2,
   "id": "790c2385-271a-41e4-86a4-2fc2c7f231e1",
   "metadata": {},
   "outputs": [
    {
     "name": "stdout",
     "output_type": "stream",
     "text": [
      "[1, 2, 3, 4, 5, 6, 7, 8, 9]\n",
      "[9, 8, 7, 6, 5, 4, 3, 2, 1]\n"
     ]
    }
   ],
   "source": [
    "my_list = [1,2,3,4,5,6,7,8,9]\n",
    "def reverse(data):\n",
    "    temp = []\n",
    "    n=len(data) - 1\n",
    "    for thing in range(n, -1, -1):\n",
    "        temp.append(data[thing])\n",
    "    return temp\n",
    "print(my_list)\n",
    "print(reverse(my_list))"
   ]
  },
  {
   "cell_type": "code",
   "execution_count": 3,
   "id": "c489b2d7-5432-4f57-8cc2-74aa01333cd5",
   "metadata": {},
   "outputs": [
    {
     "data": {
      "text/plain": [
       "'C-1.14 Write a short Python function that takes a sequence of integer values and determines if there is a distinct pair of numbers in the sequence whose product is odd.'"
      ]
     },
     "execution_count": 3,
     "metadata": {},
     "output_type": "execute_result"
    }
   ],
   "source": [
    "\"\"\"C-1.14 Write a short Python function that takes a sequence of integer values and determines if there is a distinct pair of numbers in the sequence whose product is odd.\"\"\""
   ]
  },
  {
   "cell_type": "code",
   "execution_count": 5,
   "id": "6f17fdc3-6d54-42a5-ba13-8a41d57668d2",
   "metadata": {},
   "outputs": [
    {
     "name": "stdout",
     "output_type": "stream",
     "text": [
      "True\n",
      "True\n"
     ]
    }
   ],
   "source": [
    "def odd_pair(data):\n",
    "    count = 0\n",
    "    for k in range(0, len(data) - 1):\n",
    "        if k % 2 != 0:\n",
    "            count += 1\n",
    "    return True if count >= 1 else false\n",
    "evens=[2,4,6,8,7]\n",
    "print(odd_pair(my_list))\n",
    "print(odd_pair(evens))"
   ]
  },
  {
   "cell_type": "code",
   "execution_count": 6,
   "id": "1237d856-b2aa-4309-ade6-d09a301fde2e",
   "metadata": {},
   "outputs": [
    {
     "data": {
      "text/plain": [
       "'C-1.15 Write a Python function that takes a sequence of numbers and determines if all the numbers are different from each other (that is, they are distinct).'"
      ]
     },
     "execution_count": 6,
     "metadata": {},
     "output_type": "execute_result"
    }
   ],
   "source": [
    "\"\"\"C-1.15 Write a Python function that takes a sequence of numbers and determines if all the numbers are different from each other (that is, they are distinct).\"\"\""
   ]
  },
  {
   "cell_type": "code",
   "execution_count": 9,
   "id": "69ffbeaf-8466-4ae9-a5bf-60493ee1c791",
   "metadata": {},
   "outputs": [
    {
     "name": "stdout",
     "output_type": "stream",
     "text": [
      "True\n",
      "False\n"
     ]
    }
   ],
   "source": [
    "def are_distinct(data):\n",
    "    count = 0\n",
    "    for k in data:\n",
    "        for j in range(1, len(data) - 1):\n",
    "            if k == j:\n",
    "                count += 1\n",
    "                if count == 2:\n",
    "                    return False\n",
    "    return True\n",
    "print(are_distinct(evens))\n",
    "print(are_distinct(alpha))"
   ]
  },
  {
   "cell_type": "code",
   "execution_count": 11,
   "id": "3e9bbaff-c864-44fa-aa98-01ec2724f37a",
   "metadata": {},
   "outputs": [
    {
     "data": {
      "text/plain": [
       "'C-1.18 Demonstrate how to use Python’s list comprehension syntax to produce the list [0, 2, 6, 12, 20, 30, 42, 56, 72, 90].'"
      ]
     },
     "execution_count": 11,
     "metadata": {},
     "output_type": "execute_result"
    }
   ],
   "source": [
    "\"\"\"C-1.18 Demonstrate how to use Python’s list comprehension syntax to produce the list [0, 2, 6, 12, 20, 30, 42, 56, 72, 90].\"\"\""
   ]
  },
  {
   "cell_type": "code",
   "execution_count": 13,
   "id": "e22df82b-179d-43ee-a6d4-3f1b1a07f689",
   "metadata": {},
   "outputs": [
    {
     "name": "stdout",
     "output_type": "stream",
     "text": [
      "[0, 2, 6, 12, 20, 30, 42, 56, 72, 90]\n"
     ]
    }
   ],
   "source": [
    "print([k*(k-1) for k in range(1,11)])"
   ]
  },
  {
   "cell_type": "code",
   "execution_count": 14,
   "id": "d68caf21-3b27-49f7-928e-7bea8d983d50",
   "metadata": {},
   "outputs": [
    {
     "data": {
      "text/plain": [
       "'C-1.19 Demonstrate how to use Python’s list comprehension syntax to produce the list [ a , b , c , ..., z ], but without having to type all 26 such characters literally'"
      ]
     },
     "execution_count": 14,
     "metadata": {},
     "output_type": "execute_result"
    }
   ],
   "source": [
    "\"\"\"C-1.19 Demonstrate how to use Python’s list comprehension syntax to produce the list [ a , b , c , ..., z ], but without having to type all 26 such characters literally\"\"\""
   ]
  },
  {
   "cell_type": "code",
   "execution_count": 16,
   "id": "cafa59c4-9820-467c-965c-3739ad51cdf4",
   "metadata": {},
   "outputs": [
    {
     "name": "stdout",
     "output_type": "stream",
     "text": [
      "['a', 'b', 'c', 'd', 'e', 'f', 'g', 'h', 'i', 'j', 'k', 'l', 'm', 'n', 'o', 'p', 'q', 'r', 's', 't', 'u', 'v', 'w', 'x', 'y', 'z']\n"
     ]
    }
   ],
   "source": [
    "print([chr(k) for k in range(97,123)])"
   ]
  },
  {
   "cell_type": "code",
   "execution_count": 17,
   "id": "3849290c-e55c-4704-a1a1-6dbcdb8386c7",
   "metadata": {},
   "outputs": [
    {
     "data": {
      "text/plain": [
       "'C-1.20 Python’s random module includes a function shuffle(data) that accepts a list of elements and randomly reorders the elements so that each possible order occurs with equal probability. The random module includes a more basic function randint(a, b) that returns a uniformly random integer from a to b (including both endpoints). Using only the randint function, implement your own version of the shuffle function'"
      ]
     },
     "execution_count": 17,
     "metadata": {},
     "output_type": "execute_result"
    }
   ],
   "source": [
    "\"\"\"C-1.20 Python’s random module includes a function shuffle(data) that accepts a list of elements and randomly reorders the elements so that each possible order occurs with equal probability. The random module includes a more basic function randint(a, b) that returns a uniformly random integer from a to b (including both endpoints). Using only the randint function, implement your own version of the shuffle function\"\"\""
   ]
  },
  {
   "cell_type": "code",
   "execution_count": 19,
   "id": "9b734141-a105-4076-a7b3-c2efa19f36f7",
   "metadata": {},
   "outputs": [
    {
     "name": "stdout",
     "output_type": "stream",
     "text": [
      "[2, 3, 99, 8, 5, 4, 7, 2, 6]\n"
     ]
    }
   ],
   "source": [
    "import random\n",
    "def shufl(data):\n",
    "    for k in range(0, len(data)):\n",
    "        random_index = random.randint(0,k)\n",
    "        tmp = data[random_index]\n",
    "        data[random_index] = data[k]\n",
    "        data[k] = tmp\n",
    "shufl(alpha)\n",
    "print(alpha)"
   ]
  },
  {
   "cell_type": "code",
   "execution_count": 20,
   "id": "3b389d13-d7ce-4849-a928-2ad745c6bba0",
   "metadata": {},
   "outputs": [
    {
     "data": {
      "text/plain": [
       "'C-1.21 Write a Python program that repeatedly reads lines from standard input until an EOFError is raised, and then outputs those lines in reverse order (a user can indicate end of input by typing ctrl-D)'"
      ]
     },
     "execution_count": 20,
     "metadata": {},
     "output_type": "execute_result"
    }
   ],
   "source": [
    "\"\"\"C-1.21 Write a Python program that repeatedly reads lines from standard input until an EOFError is raised, and then outputs those lines in reverse order (a user can indicate end of input by typing ctrl-D)\"\"\""
   ]
  },
  {
   "cell_type": "code",
   "execution_count": null,
   "id": "8f596dfe-cbdd-49b4-b526-f5cd72ba6eb8",
   "metadata": {},
   "outputs": [],
   "source": [
    "\n",
    "        "
   ]
  },
  {
   "cell_type": "code",
   "execution_count": 29,
   "id": "9335c7aa-5556-4780-8159-b5bc11c46a29",
   "metadata": {},
   "outputs": [
    {
     "name": "stdin",
     "output_type": "stream",
     "text": [
      " good boy\n",
      " \n"
     ]
    },
    {
     "name": "stdout",
     "output_type": "stream",
     "text": [
      "good boy\n"
     ]
    }
   ],
   "source": [
    "def line_reader_and_reverser():\n",
    "    lines=[]\n",
    "    while True:\n",
    "        x= input()\n",
    "        if x == '':\n",
    "            break\n",
    "        lines.append(x)\n",
    "    lines = reversed(lines)\n",
    "    for line in lines:\n",
    "        print(line)\n",
    "\n",
    "line_reader_and_reverser()"
   ]
  },
  {
   "cell_type": "code",
   "execution_count": 31,
   "id": "f6656c0c-979f-48c7-af93-617af1e3ac11",
   "metadata": {},
   "outputs": [
    {
     "data": {
      "text/plain": [
       "'C-1.22 Write a short Python program that takes two arrays a and b of length n storing int values, and returns the dot product of a and b. That is, it returns an array c of length n such that c[i] = a[i] · b[i], for i = 0,...,n−1.'"
      ]
     },
     "execution_count": 31,
     "metadata": {},
     "output_type": "execute_result"
    }
   ],
   "source": [
    "\"\"\"C-1.22 Write a short Python program that takes two arrays a and b of length n storing int values, and returns the dot product of a and b. That is, it returns an array c of length n such that c[i] = a[i] · b[i], for i = 0,...,n−1.\"\"\""
   ]
  },
  {
   "cell_type": "code",
   "execution_count": 33,
   "id": "9515c9a7-2dc2-41f0-901e-ba1c85d99f3a",
   "metadata": {},
   "outputs": [
    {
     "name": "stdout",
     "output_type": "stream",
     "text": [
      "[2, 4, 6, 8]\n"
     ]
    }
   ],
   "source": [
    "first=[1,2,3,4]\n",
    "second=[1,2,3,4]\n",
    "\n",
    "def dot_product(a,b):\n",
    "    c=[]\n",
    "    for k in range(0, len(a)):\n",
    "        c.append(a[k] + b[k])\n",
    "    return c\n",
    "third = dot_product(first, second)\n",
    "print(third)"
   ]
  },
  {
   "cell_type": "code",
   "execution_count": 2,
   "id": "cad55a9c-c1a4-4695-a4ae-d5da81ac10a9",
   "metadata": {},
   "outputs": [
    {
     "data": {
      "text/plain": [
       "'C-1.23 Give an example of a Python code fragment that attempts to write an element to a list based on an index that may be out of bounds. If that index is out of bounds, the program should catch the exception that results, andprint the following error message: “Don’t try buffer overflow attacks in Python!” '"
      ]
     },
     "execution_count": 2,
     "metadata": {},
     "output_type": "execute_result"
    }
   ],
   "source": [
    "\"\"\"C-1.23 Give an example of a Python code fragment that attempts to write an element to a list based on an index that may be out of bounds. If that index is out of bounds, the program should catch the exception that results, andprint the following error message: “Don’t try buffer overflow attacks in Python!” \"\"\""
   ]
  },
  {
   "cell_type": "code",
   "execution_count": 3,
   "id": "4d8cf77a-2f63-4ced-91a7-e3cfc4cb1dd9",
   "metadata": {},
   "outputs": [
    {
     "name": "stdout",
     "output_type": "stream",
     "text": [
      "Don't try buffer overflow attacks in Python\n"
     ]
    }
   ],
   "source": [
    "a_list = [1,2,3,4]\n",
    "\n",
    "try:\n",
    "    a_list[4] = 5\n",
    "except IndexError:\n",
    "    print(\"Don't try buffer overflow attacks in Python\")"
   ]
  },
  {
   "cell_type": "code",
   "execution_count": 4,
   "id": "53fe70c1-3240-4bc2-b2e3-5f5433aa7404",
   "metadata": {},
   "outputs": [
    {
     "data": {
      "text/plain": [
       "' C-1.24 Write a short Python function that counts the number of vowels in a given character string. '"
      ]
     },
     "execution_count": 4,
     "metadata": {},
     "output_type": "execute_result"
    }
   ],
   "source": [
    "\"\"\" C-1.24 Write a short Python function that counts the number of vowels in a given character string. \"\"\""
   ]
  },
  {
   "cell_type": "code",
   "execution_count": 5,
   "id": "33eb7e99-d651-46da-8c67-e42cbea2f48d",
   "metadata": {},
   "outputs": [
    {
     "name": "stdout",
     "output_type": "stream",
     "text": [
      "9\n"
     ]
    }
   ],
   "source": [
    "given_string = \"There are 9 vowels in this string\"\n",
    "count = 0\n",
    "\n",
    "for c in given_string:\n",
    "    if c=='a' or c=='e' or c=='i' or c=='o' or c=='u':\n",
    "        count += 1\n",
    "print(count)"
   ]
  },
  {
   "cell_type": "code",
   "execution_count": 6,
   "id": "a2324930-6afb-444b-84b2-3953c5ebd9c1",
   "metadata": {},
   "outputs": [
    {
     "data": {
      "text/plain": [
       "' C-1.25 Write a short Python function that takes a string s, representing a sentence, and returns a copy of the string with all punctuation removed. For exam\\x02ple, if given the string \"Let s try, Mike.\", this function would return \"Lets try Mike\". '"
      ]
     },
     "execution_count": 6,
     "metadata": {},
     "output_type": "execute_result"
    }
   ],
   "source": [
    "\"\"\" C-1.25 Write a short Python function that takes a string s, representing a sentence, and returns a copy of the string with all punctuation removed. For exam\u0002ple, if given the string \"Let s try, Mike.\", this function would return \"Lets try Mike\". \"\"\""
   ]
  },
  {
   "cell_type": "code",
   "execution_count": 8,
   "id": "34544e20-4a5f-4636-90ae-79629b4a73c5",
   "metadata": {},
   "outputs": [
    {
     "name": "stdout",
     "output_type": "stream",
     "text": [
      "Lets try Mike\n"
     ]
    }
   ],
   "source": [
    "given_string = 'Let\\'s try, Mike.'\n",
    "punctuations=''''~!@#$%^&*()_-{}[]|\\:'\";<>,./'''\n",
    "newstring = ''\n",
    "for i in given_string:\n",
    "    if i not in punctuations:\n",
    "        newstring += i\n",
    "print(newstring)"
   ]
  },
  {
   "cell_type": "code",
   "execution_count": 9,
   "id": "267ce602-6d3a-4c42-a3d1-fac371096c3c",
   "metadata": {},
   "outputs": [
    {
     "data": {
      "text/plain": [
       "' C-1.26 Write a short program that takes as input three integers, a, b, and c, from the console and determines if they can be used in a correct arithmetic formula (in the given order), like “a+b = c,” “a = b−c,” or “a ∗ b = c.” '"
      ]
     },
     "execution_count": 9,
     "metadata": {},
     "output_type": "execute_result"
    }
   ],
   "source": [
    "\"\"\" C-1.26 Write a short program that takes as input three integers, a, b, and c, from the console and determines if they can be used in a correct arithmetic formula (in the given order), like “a+b = c,” “a = b−c,” or “a ∗ b = c.” \"\"\""
   ]
  },
  {
   "cell_type": "code",
   "execution_count": 11,
   "id": "05e44865-8713-40da-8baa-199bc47db246",
   "metadata": {},
   "outputs": [
    {
     "name": "stdout",
     "output_type": "stream",
     "text": [
      "False\n",
      "True\n"
     ]
    }
   ],
   "source": [
    "def can_add(a,b,c):\n",
    "    if a == b+c:\n",
    "        return True\n",
    "    if b == a+c:\n",
    "        return True\n",
    "    if c == a+b:\n",
    "        return True\n",
    "    \n",
    "def can_subtract(a,b,c):\n",
    "    if a == b-c:\n",
    "        return True\n",
    "    if b == a-c:\n",
    "        return True\n",
    "    if c == a-b:\n",
    "        return True\n",
    "    \n",
    "def can_multiply(a,b,c):\n",
    "    if a == b*c:\n",
    "        return True\n",
    "    if b == a*c:\n",
    "        return True\n",
    "    if c == a*b:\n",
    "        return True\n",
    "    \n",
    "def can_divide(a,b,c):\n",
    "    if a == b/c:\n",
    "        return True\n",
    "    if b == a/c:\n",
    "        return True\n",
    "    if c == a/b:\n",
    "        return True\n",
    "    \n",
    "def can_power(a,b,c):\n",
    "    if a == b**c:\n",
    "        return True\n",
    "    if b == a**c:\n",
    "        return True\n",
    "    if c == a**b:\n",
    "        return True\n",
    "        \n",
    "def arithmetic_order(a,b,c):\n",
    "    i = can_add(a,b,c)\n",
    "    j = can_subtract(a,b,c)\n",
    "    k = can_multiply(a,b,c)\n",
    "    l = can_divide(a,b,c)\n",
    "    m = can_power(a,b,c)\n",
    "    if i or j or k or l or m:\n",
    "        return True\n",
    "    else:\n",
    "        return False\n",
    "    \n",
    "print(arithmetic_order(9,2,8))\n",
    "print(arithmetic_order(1,1,1))"
   ]
  },
  {
   "cell_type": "code",
   "execution_count": 12,
   "id": "6b19a6a4-1b28-4c47-96f7-c8295631245e",
   "metadata": {},
   "outputs": [
    {
     "data": {
      "text/plain": [
       "' C-1.27 In Section 1.8, we provided three different implementations of a generator that computes factors of a given integer. The third of those implementations, from page 41, was the most efficient, but we noted that it did not yield the factors in increasing order. Modify the generator so that it reports factors in increasing order, while maintaining its general performance advantages '"
      ]
     },
     "execution_count": 12,
     "metadata": {},
     "output_type": "execute_result"
    }
   ],
   "source": [
    "\"\"\" C-1.27 In Section 1.8, we provided three different implementations of a generator that computes factors of a given integer. The third of those implementations, from page 41, was the most efficient, but we noted that it did not yield the factors in increasing order. Modify the generator so that it reports factors in increasing order, while maintaining its general performance advantages \"\"\""
   ]
  },
  {
   "cell_type": "code",
   "execution_count": 14,
   "id": "0ce68063-40a2-4000-b959-d34739c8a605",
   "metadata": {},
   "outputs": [
    {
     "name": "stdout",
     "output_type": "stream",
     "text": [
      "[1, 3, 9]\n"
     ]
    }
   ],
   "source": [
    "from typing import List\n",
    "def factors(n: int) -> List[int]:\n",
    "    k = 1\n",
    "    while k**2<n:\n",
    "        if n%k == 0:\n",
    "            yield k\n",
    "        k +=1\n",
    "    k = int(n**(1/2))\n",
    "    while k > 0:\n",
    "        if n % k == 0:\n",
    "            yield n // k\n",
    "        k -= 1\n",
    "        \n",
    "print(list(factors(9)))"
   ]
  },
  {
   "cell_type": "code",
   "execution_count": 15,
   "id": "545499ef-0e9f-45b0-861a-93ba39031032",
   "metadata": {},
   "outputs": [
    {
     "data": {
      "text/plain": [
       "' C-1.28 The p-norm of a vector v = (v_1,v_2,...,v_n) in n-dimensional space is defined as ||v||=\\\\sqrt[p]{v_1^p+v_2^p+...+v_n^p} For the special case of p = 2, this results in the traditional Euclidean norm, which represents the length of the vector. For example, the Euclidean norm of a two-dimensional with coordinates (4, 3) has a Euclidean norm of \\\\sqrt[]{4^2 + 3^2} = \\\\sqrt[]{16 + 9} = \\\\sqrt[]{25} = 5. Give an implementation of a function named norm such that norm(v, p) returns the p-norm value of v and norm(v) returns the Euclidean norm of v. You may assume that v is a list of numbers.'"
      ]
     },
     "execution_count": 15,
     "metadata": {},
     "output_type": "execute_result"
    }
   ],
   "source": [
    "\"\"\" C-1.28 The p-norm of a vector v = (v_1,v_2,...,v_n) in n-dimensional space is defined as ||v||=\\sqrt[p]{v_1^p+v_2^p+...+v_n^p} For the special case of p = 2, this results in the traditional Euclidean norm, which represents the length of the vector. For example, the Euclidean norm of a two-dimensional with coordinates (4, 3) has a Euclidean norm of \\sqrt[]{4^2 + 3^2} = \\sqrt[]{16 + 9} = \\sqrt[]{25} = 5. Give an implementation of a function named norm such that norm(v, p) returns the p-norm value of v and norm(v) returns the Euclidean norm of v. You may assume that v is a list of numbers.\"\"\""
   ]
  },
  {
   "cell_type": "code",
   "execution_count": 18,
   "id": "b26aa02b-d893-4053-998a-f194691df524",
   "metadata": {},
   "outputs": [
    {
     "name": "stdout",
     "output_type": "stream",
     "text": [
      "5.0\n",
      "5.0\n",
      "4.641588833612778\n"
     ]
    }
   ],
   "source": [
    "from typing import List\n",
    "\"\"\"\n",
    "    norm(v,p) returns the p-norm of v\n",
    "    norm(v) returns the Euclidean norm of v\n",
    "    Time complexity: O(n) where n == len(v)\n",
    "    Space complexity: O(1)\n",
    "    \"\"\"\n",
    "def norm(v: List[int], p: int = 2)-> int:\n",
    "    result = 0\n",
    "    for vector in v:\n",
    "        result += vector ** p\n",
    "    return result ** (1/p)\n",
    "\n",
    "print(norm([4,3]))\n",
    "print(norm([4,3],2))\n",
    "print(norm([1,2,3,4],3))"
   ]
  },
  {
   "cell_type": "code",
   "execution_count": 19,
   "id": "a1171f43-a9c3-4e56-84d5-5933b7537dbc",
   "metadata": {},
   "outputs": [
    {
     "data": {
      "text/plain": [
       "' P-1.29 Write a Python program that outputs all possible strings formed by using the characters c , a , t , d , o , and g exactly once.'"
      ]
     },
     "execution_count": 19,
     "metadata": {},
     "output_type": "execute_result"
    }
   ],
   "source": [
    "\"\"\" P-1.29 Write a Python program that outputs all possible strings formed by using the characters c , a , t , d , o , and g exactly once.\"\"\""
   ]
  },
  {
   "cell_type": "code",
   "execution_count": 28,
   "id": "5966f8ce-4527-4eaa-9115-0fdc104f36c0",
   "metadata": {},
   "outputs": [
    {
     "name": "stdout",
     "output_type": "stream",
     "text": [
      "dogtca\n",
      "gtcdoa\n",
      "togdca\n",
      "aocdgt\n",
      "datcgo\n",
      "dcatog\n",
      "atodcg\n",
      "aotgdc\n",
      "adctog\n",
      "oadtcg\n",
      "aocdgt\n",
      "adogct\n",
      "otcgad\n",
      "gtoadc\n",
      "tcdago\n",
      "dactgo\n",
      "datcgo\n",
      "aogcdt\n",
      "todcga\n",
      "gocdta\n",
      "tagdoc\n",
      "dtogac\n",
      "odgatc\n",
      "gadcot\n",
      "gtdaco\n",
      "gdtaco\n",
      "togadc\n",
      "octdag\n",
      "agcdto\n",
      "gocdta\n",
      "atcodg\n",
      "dcgoat\n",
      "octdag\n",
      "adtcog\n",
      "tdoacg\n",
      "dgctoa\n",
      "codgat\n",
      "odtagc\n",
      "ocdgta\n",
      "goatcd\n",
      "cadgto\n",
      "dtcoga\n",
      "gcdtoa\n",
      "tgacdo\n",
      "ogdact\n",
      "catdog\n",
      "gcotda\n",
      "todacg\n",
      "cgatdo\n",
      "aodtgc\n",
      "atgocd\n",
      "caotdg\n",
      "gcdtao\n",
      "cdgtao\n",
      "gdcato\n",
      "oacdtg\n",
      "ocgtda\n",
      "catdog\n",
      "daotgc\n",
      "otcdag\n",
      "toacdg\n",
      "adcgot\n",
      "oagctd\n",
      "dotcag\n",
      "aotcgd\n",
      "otacdg\n",
      "cagtdo\n",
      "atdcgo\n",
      "oatdcg\n",
      "cgodat\n",
      "adtogc\n",
      "dtocag\n",
      "tcgado\n",
      "cagotd\n",
      "dtaogc\n",
      "tadgco\n",
      "ogcadt\n",
      "coadgt\n",
      "daotgc\n",
      "cadotg\n",
      "taodgc\n",
      "adcgot\n",
      "coadtg\n",
      "daotcg\n",
      "dagcto\n",
      "ogtdca\n",
      "tacdgo\n",
      "agdtco\n",
      "dtgcoa\n",
      "tacgod\n",
      "gcoatd\n",
      "dgtcoa\n",
      "dcaogt\n",
      "cgoadt\n",
      "dtagoc\n",
      "dtogac\n",
      "dtgoac\n",
      "tgcdoa\n",
      "dtgcoa\n",
      "togdac\n",
      "doctga\n",
      "dtogac\n",
      "gatdco\n",
      "oagtdc\n",
      "oadctg\n",
      "godtac\n",
      "toagcd\n",
      "gacdto\n",
      "doagtc\n",
      "dotgca\n",
      "datogc\n",
      "gatdoc\n",
      "dgacot\n",
      "goactd\n",
      "cdtaog\n",
      "cgtaod\n",
      "odcgat\n",
      "cdoatg\n",
      "ctdoga\n",
      "octadg\n",
      "docatg\n",
      "otacgd\n",
      "adotcg\n",
      "ctaogd\n",
      "tcoagd\n",
      "ocgdta\n",
      "cgotda\n",
      "dgotac\n",
      "ctoadg\n",
      "ctdoag\n",
      "dgtaoc\n",
      "odgcat\n",
      "tcodag\n",
      "acgdto\n",
      "oatgdc\n",
      "cagtdo\n",
      "gdaoct\n",
      "ctgaod\n",
      "cgdtoa\n",
      "dctgao\n",
      "tcadog\n",
      "adgotc\n",
      "ctgaod\n",
      "adctog\n",
      "adogct\n",
      "gtcaod\n",
      "tgadco\n",
      "catdog\n",
      "dacotg\n",
      "gtodac\n",
      "godcta\n",
      "dtgaoc\n",
      "dtcago\n",
      "odatgc\n",
      "doactg\n",
      "dogtca\n",
      "dgctao\n",
      "aogtdc\n",
      "otgacd\n",
      "todcga\n",
      "odatcg\n",
      "dtgcoa\n",
      "gctdao\n",
      "agodct\n",
      "catdgo\n",
      "ctgoda\n",
      "cgotda\n",
      "tgadoc\n",
      "ocagtd\n",
      "tcgaod\n",
      "dacotg\n",
      "gotdca\n",
      "togdca\n",
      "acdtog\n",
      "acdotg\n",
      "tagdoc\n",
      "tdgoac\n",
      "tcogad\n",
      "datogc\n",
      "tagcod\n",
      "tcagdo\n",
      "oacdtg\n",
      "dctoag\n",
      "togcad\n",
      "atcgod\n",
      "oatdgc\n",
      "gdctao\n",
      "godcat\n",
      "ctogda\n",
      "ogdtac\n",
      "taodgc\n",
      "cotadg\n",
      "gadcot\n",
      "oactdg\n",
      "odctga\n",
      "tgacdo\n",
      "ctdoag\n",
      "aocdtg\n",
      "goactd\n",
      "otagdc\n",
      "cdtago\n",
      "atdgco\n",
      "dgtoac\n",
      "dtogac\n",
      "tcadog\n",
      "doatgc\n",
      "gtodca\n",
      "otacdg\n",
      "ctgdao\n",
      "codagt\n",
      "dtagoc\n",
      "caotdg\n",
      "cdagto\n",
      "dacgot\n",
      "godatc\n",
      "cdgota\n",
      "tdogca\n",
      "atcdog\n",
      "coadgt\n",
      "tacodg\n",
      "tgadoc\n",
      "otgdac\n",
      "dtocga\n",
      "dagotc\n",
      "todgca\n",
      "dgaoct\n",
      "aoctgd\n",
      "gatocd\n",
      "odatcg\n",
      "gocdat\n",
      "datgco\n",
      "cdtgoa\n",
      "goadtc\n",
      "dcaogt\n",
      "cgdota\n",
      "otdgca\n",
      "dctgao\n",
      "dogtac\n",
      "daotgc\n",
      "dactgo\n",
      "cdotag\n",
      "gaodtc\n",
      "adoctg\n",
      "acdgot\n",
      "gtdaoc\n",
      "cgtoda\n",
      "adoctg\n",
      "tgdoac\n",
      "gtadco\n",
      "cdgoat\n",
      "tacgod\n",
      "atgdco\n",
      "gocdta\n",
      "dgatoc\n",
      "tdcoag\n",
      "goacdt\n",
      "gtdaoc\n",
      "gtadco\n",
      "tgcoad\n",
      "tocagd\n",
      "dtaogc\n",
      "adgtoc\n",
      "gotcad\n",
      "dagcot\n",
      "goctad\n",
      "otcgda\n",
      "dcogat\n",
      "todgac\n",
      "dacgot\n",
      "adgoct\n",
      "ctgoda\n",
      "coagdt\n",
      "otcdag\n",
      "tgdoca\n",
      "agcdot\n",
      "daotcg\n",
      "aocdgt\n",
      "odgcat\n",
      "oadtgc\n",
      "dgocat\n",
      "dogtac\n",
      "tcdoag\n",
      "octdag\n",
      "ctgaod\n",
      "toagcd\n",
      "tdacog\n",
      "tcoagd\n",
      "ocadtg\n",
      "gaodtc\n",
      "tacgdo\n",
      "cgdaot\n",
      "aogdct\n",
      "docgat\n",
      "doctag\n",
      "gcdoat\n",
      "tcadog\n",
      "toagdc\n",
      "gdocta\n",
      "aocgdt\n",
      "gctoda\n",
      "cdtgao\n",
      "ocgtad\n",
      "todgac\n",
      "daogtc\n",
      "todagc\n",
      "agcdot\n",
      "gctaod\n",
      "tcoadg\n",
      "odtgac\n",
      "dogact\n",
      "cadtog\n",
      "dgtoca\n",
      "oadtcg\n",
      "godcta\n",
      "dgcoat\n",
      "gdctoa\n",
      "odactg\n",
      "ogdcat\n",
      "ctadgo\n",
      "ctagdo\n",
      "tagcod\n",
      "cgdoat\n",
      "docatg\n",
      "adtcgo\n",
      "dcagot\n",
      "otdgac\n",
      "codagt\n",
      "dctaog\n",
      "dgtcao\n",
      "dotcag\n",
      "oactdg\n",
      "ocadgt\n",
      "gtdoac\n",
      "cgdtao\n",
      "dgocta\n",
      "gotacd\n",
      "taogdc\n",
      "agdtoc\n",
      "tocdag\n",
      "docgta\n",
      "aoctgd\n",
      "atodgc\n",
      "gtdcao\n",
      "tacodg\n",
      "otcdga\n",
      "ogactd\n",
      "dgoatc\n",
      "aogctd\n",
      "tgoacd\n",
      "dgtcoa\n",
      "gadtoc\n",
      "dcgoat\n",
      "gcadot\n",
      "dogcat\n",
      "cgdtao\n",
      "atgocd\n",
      "tdgcao\n",
      "gatodc\n",
      "dcgato\n",
      "dtoagc\n",
      "agodtc\n",
      "taodcg\n",
      "aogctd\n",
      "aotcgd\n",
      "oadgtc\n",
      "oagdtc\n",
      "adtgoc\n",
      "cogdta\n",
      "ogatcd\n",
      "oatcgd\n",
      "agcodt\n",
      "adotcg\n",
      "todcag\n",
      "dagtco\n",
      "todagc\n",
      "dotgac\n",
      "goactd\n",
      "dtcago\n",
      "agdcot\n",
      "cogatd\n",
      "goadct\n",
      "gdtaoc\n",
      "catgod\n",
      "atdcgo\n",
      "toacdg\n",
      "dcotag\n",
      "dtcoag\n",
      "cadgot\n",
      "dctoga\n",
      "aotcdg\n",
      "daogtc\n",
      "gtdaoc\n",
      "odatcg\n",
      "tocdag\n",
      "dacgot\n",
      "daogtc\n",
      "cdgtao\n",
      "gdacot\n",
      "aodtgc\n",
      "tagdco\n",
      "tadogc\n",
      "gcodta\n",
      "ogdact\n",
      "atdgco\n",
      "togdac\n",
      "tgdcoa\n",
      "cdogat\n",
      "cadgot\n",
      "tdgoca\n",
      "ctogad\n",
      "gocdat\n",
      "togcda\n",
      "gtdcoa\n",
      "agctod\n",
      "dtgaoc\n",
      "ogdcta\n",
      "agoctd\n",
      "catgdo\n",
      "cgtaod\n",
      "coatdg\n",
      "otdcga\n",
      "dctgoa\n",
      "tdocag\n",
      "ogactd\n",
      "gocadt\n",
      "gacdto\n",
      "atodgc\n",
      "agtdoc\n",
      "gadcot\n",
      "coatgd\n",
      "tgacod\n",
      "caotgd\n",
      "ctadog\n",
      "ocdgat\n",
      "agcodt\n",
      "daogct\n",
      "dcatgo\n",
      "odcgta\n",
      "dgaoct\n",
      "tadogc\n",
      "dgtcao\n",
      "otcdga\n",
      "gtdcao\n",
      "gcdaot\n",
      "tcgoad\n",
      "tcagdo\n",
      "dgatco\n",
      "ctodag\n",
      "ctdgao\n",
      "dtgoac\n",
      "godtca\n",
      "dtgaco\n",
      "gcotad\n",
      "tcogda\n",
      "todgac\n",
      "adoctg\n",
      "dgcaot\n",
      "gtcaod\n",
      "dgoatc\n",
      "gtcdao\n",
      "cotgad\n",
      "dctago\n",
      "agdtoc\n",
      "tagodc\n",
      "aodcgt\n",
      "octagd\n",
      "tcagod\n",
      "ctagod\n",
      "ctgdoa\n",
      "tcgdao\n",
      "doagct\n",
      "cadtgo\n",
      "acodgt\n",
      "otdcga\n",
      "atdgoc\n",
      "adoctg\n",
      "acdgot\n",
      "agdotc\n",
      "gatcdo\n",
      "dogcta\n",
      "gtacdo\n",
      "gdacto\n",
      "cgotda\n",
      "coadtg\n",
      "aotdcg\n",
      "odtcag\n",
      "gtdoac\n",
      "cgtoda\n",
      "goacdt\n",
      "cgoadt\n",
      "odatgc\n",
      "cgdaot\n",
      "datcgo\n",
      "otadcg\n",
      "adgcot\n",
      "dtcago\n",
      "tacgdo\n",
      "gotcda\n",
      "codatg\n",
      "dcaogt\n",
      "gdcaot\n",
      "atcodg\n",
      "dotcag\n",
      "ctgoad\n",
      "aocdtg\n",
      "gcdtao\n",
      "togdca\n",
      "toagdc\n",
      "dcgaot\n",
      "cgotda\n",
      "cdgoat\n",
      "adogtc\n",
      "togadc\n",
      "daogtc\n",
      "cgtoad\n",
      "atcogd\n",
      "tdgaco\n",
      "otdcga\n",
      "dctgao\n",
      "tgadco\n",
      "cgdota\n",
      "oatgcd\n",
      "dcagot\n",
      "agtocd\n",
      "acgtod\n",
      "tgdaoc\n",
      "adtcgo\n",
      "ctadog\n",
      "cdtgoa\n",
      "tdagco\n",
      "gdtaco\n",
      "dagtoc\n",
      "oatgcd\n",
      "cogtad\n",
      "cdgtoa\n",
      "tacgdo\n",
      "gatdoc\n",
      "codgta\n",
      "gdctao\n",
      "dgcota\n",
      "adgcot\n",
      "agodct\n",
      "dctgoa\n",
      "godtca\n",
      "acgotd\n",
      "aodctg\n",
      "dcgaot\n",
      "dgatco\n",
      "odctga\n",
      "oagdtc\n",
      "aocgdt\n",
      "dgtoac\n",
      "atgocd\n",
      "tcdoga\n",
      "tdoacg\n",
      "adtcgo\n",
      "tcgoda\n",
      "dtogac\n",
      "tcdoag\n",
      "acgdto\n",
      "tdoagc\n",
      "atdcgo\n",
      "agcotd\n",
      "gactdo\n",
      "ctoagd\n",
      "otgcad\n",
      "tgaocd\n",
      "cdaotg\n",
      "oadtcg\n",
      "dcgaot\n",
      "tacgod\n",
      "dacgot\n",
      "agdoct\n",
      "tgcado\n",
      "tdcaog\n",
      "gocdat\n",
      "tagodc\n",
      "taocgd\n",
      "tcodag\n",
      "odcgat\n",
      "otcadg\n",
      "agodtc\n",
      "cogatd\n",
      "cgdtoa\n",
      "acgodt\n",
      "tcagdo\n",
      "cotagd\n",
      "ctadog\n",
      "dgacto\n",
      "odcatg\n",
      "cdagto\n",
      "doagct\n",
      "goatdc\n",
      "aotcdg\n",
      "cgatdo\n",
      "acogtd\n",
      "codgat\n",
      "oatdgc\n",
      "cgdato\n",
      "tdoacg\n",
      "cgdtao\n",
      "atcgod\n",
      "tdgcao\n",
      "gcodat\n",
      "doatgc\n",
      "aodgtc\n",
      "gatocd\n",
      "gdatoc\n",
      "tcdoga\n",
      "agdoct\n",
      "cgoatd\n",
      "gctoad\n",
      "gdtoac\n",
      "oatgdc\n",
      "dcgtao\n",
      "tcgado\n",
      "cotadg\n",
      "gadcto\n",
      "aogcdt\n",
      "atdocg\n",
      "dtogca\n",
      "cdagto\n",
      "ogtadc\n",
      "gaocdt\n",
      "dtacgo\n",
      "acgodt\n",
      "tcgoad\n",
      "oadgtc\n",
      "coatdg\n",
      "cgatdo\n",
      "ogadct\n",
      "dcgtoa\n",
      "ocgdat\n",
      "cdgoat\n",
      "gacdto\n",
      "aodcgt\n",
      "agotcd\n",
      "dotgac\n",
      "gtcado\n",
      "dotgac\n",
      "acgdot\n",
      "cgadot\n",
      "gcaotd\n",
      "dctago\n",
      "otgcda\n",
      "dogcta\n",
      "ogtdac\n",
      "taocdg\n",
      "otgacd\n",
      "gctdao\n",
      "tgocda\n",
      "cdotga\n",
      "gtoacd\n",
      "codgta\n",
      "taocgd\n",
      "ctdaog\n",
      "daogtc\n",
      "tocadg\n",
      "doctag\n",
      "doctag\n",
      "dctago\n",
      "otgdac\n",
      "atcdog\n",
      "atdogc\n",
      "cgdato\n",
      "otcgad\n",
      "aotcgd\n",
      "gtdcoa\n",
      "dtacog\n",
      "gdcato\n",
      "docgat\n",
      "tcdaog\n",
      "ctdgao\n",
      "cdaogt\n",
      "aocdgt\n",
      "atcdgo\n",
      "acgtdo\n",
      "otacgd\n",
      "octdga\n",
      "doagct\n",
      "ctoagd\n",
      "datogc\n",
      "todgca\n",
      "acgdto\n",
      "oactdg\n",
      "otcagd\n",
      "dgtoac\n",
      "tgdcoa\n",
      "tocadg\n",
      "odctga\n",
      "gdtaoc\n",
      "coadtg\n",
      "oadgct\n",
      "atcodg\n",
      "ogtdac\n",
      "ocdgat\n",
      "agodtc\n",
      "cgdtao\n",
      "doactg\n",
      "gadcto\n",
      "tcoadg\n",
      "tdcaog\n",
      "ogtacd\n",
      "tacogd\n",
      "oagdtc\n",
      "otadgc\n",
      "dcaotg\n",
      "ogdtac\n",
      "ocdtga\n",
      "dtagco\n",
      "doatcg\n",
      "ocgtad\n",
      "togadc\n",
      "gtocad\n",
      "gdatco\n",
      "taodcg\n",
      "actodg\n",
      "otgdac\n",
      "dogcat\n",
      "ctgaod\n"
     ]
    }
   ],
   "source": [
    "import random\n",
    "from  random import choice, randint\n",
    "def stringify_list(l):\n",
    "    m=''\n",
    "    for digit in l:\n",
    "        m+=digit\n",
    "    return m\n",
    "\n",
    "def factorial(n):\n",
    "    if n==1:\n",
    "        return 1\n",
    "    else:\n",
    "        return n*factorial(n-1)\n",
    "    \n",
    "def my_shuffle(original_list):\n",
    "    shuffled_list = []\n",
    "    while len(shuffled_list) < len(original_list):\n",
    "        is_distinct = False\n",
    "        while not is_distinct:\n",
    "            randomly_chosen = original_list[randint(0,len(original_list)-1)]\n",
    "            if randomly_chosen in shuffled_list:\n",
    "                randomly_chosen = original_list[randint(0,len(original_list)-1)]\n",
    "            else:\n",
    "                shuffled_list.append(randomly_chosen)\n",
    "                break\n",
    "    return shuffled_list \n",
    "\n",
    "def permute_string(s):\n",
    "    chars = s.split(' ')\n",
    "    permuted_strings=[]\n",
    "    for _ in range(0, factorial(len(chars))):\n",
    "        permuted = my_shuffle(chars)\n",
    "        while permuted in permuted_strings:\n",
    "            permuted = my_shuffle(chars)\n",
    "        permuted_strings.append(stringify_list(permuted))\n",
    "    return permuted_strings\n",
    "for permutation in permute_string('c a t d o g'):\n",
    "    print(permutation)"
   ]
  },
  {
   "cell_type": "code",
   "execution_count": 29,
   "id": "c0f72462-cece-4a60-ac74-695d98d269f7",
   "metadata": {},
   "outputs": [
    {
     "data": {
      "text/plain": [
       "' P-1.30 Write a Python program that can take a positive integer greater than 2 as input and write out the number of times one must repeatedly divide this number by 2 before getting a value less than 2. '"
      ]
     },
     "execution_count": 29,
     "metadata": {},
     "output_type": "execute_result"
    }
   ],
   "source": [
    "\"\"\" P-1.30 Write a Python program that can take a positive integer greater than 2 as input and write out the number of times one must repeatedly divide this number by 2 before getting a value less than 2. \"\"\""
   ]
  },
  {
   "cell_type": "code",
   "execution_count": 30,
   "id": "a1f461b4-eb6e-4a08-8662-37f58f152aa3",
   "metadata": {},
   "outputs": [
    {
     "name": "stdout",
     "output_type": "stream",
     "text": [
      "3\n"
     ]
    }
   ],
   "source": [
    "def div_by_two(number):\n",
    "    count=0\n",
    "    while number >= 2:\n",
    "        number/=2\n",
    "        count+=1\n",
    "        \n",
    "    return count\n",
    "print(div_by_two(9))"
   ]
  },
  {
   "cell_type": "code",
   "execution_count": 31,
   "id": "b509055d-4acb-423f-b61c-300acaa31173",
   "metadata": {},
   "outputs": [
    {
     "data": {
      "text/plain": [
       "' P-1.31 Write a Python program that can “make change.” Your program should take two numbers as input, one that is a monetary amount charged and the other that is a monetary amount given. It should then return the number of each kind of bill and coin to give back as change for the difference between the amount given and the amount charged. The values assigned to the bills and coins can be based on the monetary system of any current or former government. Try to design your program so that it returns as few bills and coins as possible. '"
      ]
     },
     "execution_count": 31,
     "metadata": {},
     "output_type": "execute_result"
    }
   ],
   "source": [
    "\"\"\" P-1.31 Write a Python program that can “make change.” Your program should take two numbers as input, one that is a monetary amount charged and the other that is a monetary amount given. It should then return the number of each kind of bill and coin to give back as change for the difference between the amount given and the amount charged. The values assigned to the bills and coins can be based on the monetary system of any current or former government. Try to design your program so that it returns as few bills and coins as possible. \"\"\""
   ]
  },
  {
   "cell_type": "code",
   "execution_count": 38,
   "id": "f6618402-5eea-4cec-b8ae-e27d93231976",
   "metadata": {},
   "outputs": [
    {
     "name": "stdout",
     "output_type": "stream",
     "text": [
      "False\n",
      "1 five_hundred naira notes\n",
      "1 two_hundred naira notes\n",
      "1 hundred naira notes\n",
      "1 fifty naira notes\n",
      "1 twenty naira notes\n",
      "1 five naira notes\n",
      "making875 naira\n",
      "\n",
      "generator version\n",
      "\n",
      "1 five_hundred naira note\n",
      "1 two_hundred naira note\n",
      "1 hundred naira note\n",
      "1 fifty naira note\n",
      "1 twenty naira note\n",
      "1 naira note\n"
     ]
    }
   ],
   "source": [
    "denominations={'one_thousand':1000, 'five_hundred':500, 'two_hundred':200, 'hundred':100, 'fifty':50, 'twenty':20, 'ten':10, 'five':5}\n",
    "def valid_cash(cash):\n",
    "    i=0\n",
    "    while cash >= denominations['five']:\n",
    "        current_denomination = denominations[list(denominations.keys())[i]]\n",
    "        if cash - current_denomination >= 0:\n",
    "            cash -= current_denomination\n",
    "        else:\n",
    "            i += 1\n",
    "    return True if cash == 0 else False\n",
    "\n",
    "def make_change(charge, cash):\n",
    "    if not valid_cash(charge) or not valid_cash(cash):\n",
    "        print('invalid amount given available denominations')\n",
    "        return None\n",
    "    balance = cash - charge\n",
    "    if balance == 0:\n",
    "        return 'no balance to be given'\n",
    "    result = ''\n",
    "    changes = list(0 for x in range(0,len(denominations)))\n",
    "    notes = list(denominations.keys())\n",
    "    values = list(denominations.values())\n",
    "    i=0\n",
    "    while True:\n",
    "        if balance - values[i] == 0:\n",
    "            changes[i] += 1\n",
    "            break\n",
    "        elif balance - values[i] > 0:\n",
    "            balance -= values[i]\n",
    "            changes[i] += 1\n",
    "        else:\n",
    "            i += 1\n",
    "    for i,change in enumerate(changes):\n",
    "        if change >0:\n",
    "            if change >1:\n",
    "                result += f'{change} {notes[i]} naira notes\\n'\n",
    "            else:\n",
    "                result += f'{change} {notes[i]} naira notes\\n'\n",
    "    result += f'making{cash - charge} naira'\n",
    "    return result\n",
    "\n",
    "def make_change_gen(charge, cash):\n",
    "    if not valid_cash(charge) or not valid_cash(cash):\n",
    "        print('invalid amount given available denominations')\n",
    "        return None\n",
    "    balance = cash - charge\n",
    "    if balance == 0:\n",
    "        return 'no balance to be given'\n",
    "    changes = list(0 for x in range(0, len(denominations)))\n",
    "    notes = list(denominations.keys())\n",
    "    values = list(denominations.values())\n",
    "    i=0\n",
    "    while True:\n",
    "        if balance - values[i] == 0:\n",
    "            changes[i] += 1\n",
    "            yield f'{changes[i]}{notes[i]} naira notes' if changes[i]>1 else f'{changes[i]} naira note'\n",
    "            break\n",
    "        elif balance - values[i] > 0:\n",
    "            balance -= values[i]\n",
    "            changes[i] += 1\n",
    "        else:\n",
    "            if changes[i]:\n",
    "                yield f'{changes[i]} {notes[i]} naira notes' if changes[i]>1 else f'{changes[i]} {notes[i]} naira note'\n",
    "            i += 1\n",
    "            \n",
    "def compare_outputs(func1, func2, *args):\n",
    "    r_func1 = func1(*args)\n",
    "    r_func1 = r_func1.split('\\n')[0:len(r_func1)-1]\n",
    "    are_same = True\n",
    "    for line,output in zip(r_func1, func2(*args)):\n",
    "        if output != line:\n",
    "            are_same = False\n",
    "    return are_same\n",
    "\n",
    "print(compare_outputs(make_change, make_change_gen,900,1000))\n",
    "print(make_change(125,1000))\n",
    "print('\\ngenerator version\\n')\n",
    "for output in make_change_gen(125,1000):\n",
    "    print(output)"
   ]
  },
  {
   "cell_type": "code",
   "execution_count": 34,
   "id": "eac57dd2-d03b-4a4d-a291-1d800de58c86",
   "metadata": {},
   "outputs": [
    {
     "name": "stdout",
     "output_type": "stream",
     "text": [
      "True\n",
      "1 five_hundred naira note\n",
      "1 two_hundred naira note\n",
      "1 hundred naira note\n",
      "1 fifty naira note\n",
      "1 twenty naira note\n",
      "1 five naira note\n",
      "making 875 naira\n",
      "\n",
      "generator version\n",
      "\n",
      "1 five_hundred naira note\n",
      "1 two_hundred naira note\n",
      "1 hundred naira note\n",
      "1 fifty naira note\n",
      "1 twenty naira note\n",
      "1 five naira note\n"
     ]
    }
   ],
   "source": [
    "denominations={'one_thousand':1000,'five_hundred':500, 'two_hundred':200, 'hundred':100, \n",
    "                'fifty':50,'twenty':20, 'ten':10,'five':5 }\n",
    "\n",
    "#function to check if given cash can be made from available denominations\n",
    "def valid_cash(cash):\n",
    "    i = 0\n",
    "    while cash >= denominations['five']:\n",
    "        current_denomination =  denominations[list(denominations.keys())[i]]\n",
    "        if cash - current_denomination >= 0:\n",
    "            cash -= current_denomination\n",
    "        else:\n",
    "            i += 1\n",
    "    return True if cash == 0 else False\n",
    "\n",
    "def make_change(charge, cash):\n",
    "    if not valid_cash(charge) or not valid_cash(cash):\n",
    "        print('invalid amount given available denominatons')\n",
    "        return None\n",
    "    balance = cash - charge\n",
    "    if balance == 0:\n",
    "        return 'no balance to be given'\n",
    "    result = ''\n",
    "    changes = list(0 for x in range(0,len(denominations)))\n",
    "    notes = list(denominations.keys())\n",
    "    values = list(denominations.values())   \n",
    "    i=0\n",
    "    while True:\n",
    "        if balance - values[i] == 0:\n",
    "            changes[i] += 1\n",
    "            break\n",
    "        elif balance - values[i] > 0:\n",
    "            balance -= values[i]\n",
    "            changes[i] += 1\n",
    "        else:\n",
    "            i += 1\n",
    "    for i,change in enumerate(changes):\n",
    "        if change >0:\n",
    "            if change >1:\n",
    "                result += f'{change} {notes[i]} naira notes\\n'\n",
    "            else:\n",
    "                result += f'{change} {notes[i]} naira note\\n'\n",
    "    result += f'making {cash - charge} naira'\n",
    "    return result\n",
    "\n",
    "def make_change_gen(charge, cash):\n",
    "    if not valid_cash(charge) or not valid_cash(cash):\n",
    "        print('invalid amount given available denominatons')\n",
    "        return None\n",
    "    balance = cash - charge\n",
    "    if balance == 0:\n",
    "        return 'no balance to be given'\n",
    "    changes = list(0 for x in range(0,len(denominations)))\n",
    "    notes = list(denominations.keys())\n",
    "    values = list(denominations.values())   \n",
    "    i=0\n",
    "    while True:\n",
    "        if balance - values[i] == 0:\n",
    "            changes[i] += 1\n",
    "            yield f'{changes[i]} {notes[i]} naira notes' if changes[i]>1 else f'{changes[i]} {notes[i]} naira note'\n",
    "            break\n",
    "        elif balance - values[i] > 0:\n",
    "            balance -= values[i]\n",
    "            changes[i] += 1\n",
    "        else:\n",
    "            if changes[i]:\n",
    "                yield f'{changes[i]} {notes[i]} naira notes' if changes[i]>1 else f'{changes[i]} {notes[i]} naira note'\n",
    "            i += 1\n",
    "\n",
    "\n",
    "def compare_outputs(func1, func2, *args):\n",
    "    r_func1 = func1(*args)\n",
    "    r_func1 = r_func1.split('\\n')[0:len(r_func1)-1]\n",
    "    are_same = True\n",
    "    for line,output in zip(r_func1, func2(*args)):\n",
    "        if output != line:\n",
    "            are_same = False\n",
    "    return are_same\n",
    "\n",
    "\n",
    "\n",
    "print(compare_outputs(make_change, make_change_gen,900,1000))\n",
    "print(make_change(125,1000))\n",
    "print('\\ngenerator version\\n')\n",
    "for output in make_change_gen(125,1000):\n",
    "    print(output)"
   ]
  },
  {
   "cell_type": "code",
   "execution_count": 39,
   "id": "f22c28b9-0db7-471d-991c-563dbe4161b3",
   "metadata": {},
   "outputs": [
    {
     "data": {
      "text/plain": [
       "' P-1.32 Write a Python program that can simulate a simple calculator, using the console as the exclusive input and output device. That is, each input to the calculator, be it a number, like 12.34 or 1034, or an operator, like + or =, can be done on a separate line. After each such input, you should output to the Python console what would be displayed on your calculator. '"
      ]
     },
     "execution_count": 39,
     "metadata": {},
     "output_type": "execute_result"
    }
   ],
   "source": [
    "\"\"\" P-1.32 Write a Python program that can simulate a simple calculator, using the console as the exclusive input and output device. That is, each input to the calculator, be it a number, like 12.34 or 1034, or an operator, like + or =, can be done on a separate line. After each such input, you should output to the Python console what would be displayed on your calculator. \"\"\""
   ]
  },
  {
   "cell_type": "code",
   "execution_count": 45,
   "id": "e5dc4cf1-6666-42fb-bbae-7d8f1bafb7b8",
   "metadata": {},
   "outputs": [
    {
     "name": "stdin",
     "output_type": "stream",
     "text": [
      ":  4\n",
      ":  +\n",
      ":  5\n",
      ":  =\n"
     ]
    },
    {
     "name": "stdout",
     "output_type": "stream",
     "text": [
      "9\n"
     ]
    }
   ],
   "source": [
    "def calculator():\n",
    "    operation = []\n",
    "    \n",
    "    while True:\n",
    "        operand = input(': ')\n",
    "        if operand == '=':\n",
    "            break\n",
    "        operation.append(operand)\n",
    "        result = int(operation[0])\n",
    "    for i in range(0, len(operation)):\n",
    "        if operation[i+1] == '+':\n",
    "            result += int(operation[i+2])\n",
    "        if operation[i+1]  == '-':\n",
    "            result -= int(operation[i+2])\n",
    "        if operation[i+1] == '*':\n",
    "            result *= int(operation[i+2])\n",
    "        if operation[i+1] == '/':\n",
    "            result /= int(operation[i+2])\n",
    "        if i+3 < len(operation):\n",
    "            i+=3\n",
    "        else:\n",
    "            return result\n",
    "print(calculator())"
   ]
  },
  {
   "cell_type": "code",
   "execution_count": 48,
   "id": "7803d43b-7871-44d3-8280-2fa9059446a0",
   "metadata": {},
   "outputs": [
    {
     "data": {
      "text/plain": [
       "' P-1.33 Write a Python program that simulates a handheld calculator. Your program should process input from the Python console representing buttons that are “pushed,” and then output the contents of the screen after each operation is performed. Minimally, your calculator should be able to process the basic arithmetic operations and a reset/clear operation. '"
      ]
     },
     "execution_count": 48,
     "metadata": {},
     "output_type": "execute_result"
    }
   ],
   "source": [
    "\"\"\" P-1.33 Write a Python program that simulates a handheld calculator. Your program should process input from the Python console representing buttons that are “pushed,” and then output the contents of the screen after each operation is performed. Minimally, your calculator should be able to process the basic arithmetic operations and a reset/clear operation. \"\"\""
   ]
  },
  {
   "cell_type": "code",
   "execution_count": 1,
   "id": "d25fdc71-22e3-4c1e-bdd1-ed3223b3ec9e",
   "metadata": {},
   "outputs": [
    {
     "name": "stdin",
     "output_type": "stream",
     "text": [
      ":  3\n",
      ":  /\n",
      ":  2\n",
      ":  =\n"
     ]
    },
    {
     "name": "stdout",
     "output_type": "stream",
     "text": [
      "1.5\n"
     ]
    }
   ],
   "source": [
    "def calculator():\n",
    "    operation = []\n",
    "    \n",
    "    while True:\n",
    "        operand = input(': ')\n",
    "        if operand == '=':\n",
    "            break\n",
    "        if operand == 'd':\n",
    "            operation.pop()\n",
    "            print(operation)\n",
    "            continue\n",
    "        if operand == 'c':\n",
    "            operation = []\n",
    "            continue\n",
    "        operation.append(operand)\n",
    "        result = int(operation[0])\n",
    "        \n",
    "    for i in range(0, len(operation)):\n",
    "        if operation[i+1] == '+':\n",
    "            result += int(operation[i+1])\n",
    "        if operation[i+1] == '-':\n",
    "            result -= int(operation[i+2])\n",
    "        if operation[i+1] == '*':\n",
    "            result *= int(operation[i+2])\n",
    "        if operation[i+1] == '/':\n",
    "            result /= int(operation[i+2])\n",
    "        if i+3 < len(operation):\n",
    "            i+=3\n",
    "        else:\n",
    "            return result\n",
    "print(calculator())"
   ]
  },
  {
   "cell_type": "code",
   "execution_count": 3,
   "id": "cae8bbdd-424b-41cc-a681-9617a971ab59",
   "metadata": {},
   "outputs": [
    {
     "data": {
      "text/plain": [
       "' P-1.34 A common punishment for school children is to write out a sentence multiple times. Write a Python stand-alone program that will write out the following sentence one hundred times: “I will never spam my friends again.” Your program should number each of the sentences and it should make eight different random-looking typos. '"
      ]
     },
     "execution_count": 3,
     "metadata": {},
     "output_type": "execute_result"
    }
   ],
   "source": [
    "\"\"\" P-1.34 A common punishment for school children is to write out a sentence multiple times. Write a Python stand-alone program that will write out the following sentence one hundred times: “I will never spam my friends again.” Your program should number each of the sentences and it should make eight different random-looking typos. \"\"\""
   ]
  },
  {
   "cell_type": "code",
   "execution_count": 7,
   "id": "57c3040a-210a-40e5-9ec4-c7d1afeea89d",
   "metadata": {},
   "outputs": [
    {
     "name": "stdout",
     "output_type": "stream",
     "text": [
      "I will never spdm my friends again\n",
      "I will never spam my frilnds again\n",
      "I will never spam my fxiends again\n",
      "I will neverwspam my friends again\n",
      "I well never spam my friends again\n",
      "I will never wpam my friends again\n",
      "I wily never spam my friends again\n",
      "I will never spam ey friends again\n",
      "I will never spam my friends again\n",
      "I will never spam my friends again\n",
      "I will never spam my friends again\n",
      "I will never spam my friends again\n",
      "I will never spam my friends again\n",
      "I will neeer spam my friends again\n",
      "I will never spam my friends again\n",
      "I will never spam my friends again\n",
      "I will never spam my frields again\n",
      "I will iever spam my friends again\n",
      "I will never spam my frienvs again\n",
      "I will never spam my friends again\n",
      "I will never spam my friends again\n",
      "I will never spam my friends again\n",
      "I will never dpam my friends again\n",
      "I will never spam my friends again\n",
      "I will never spam my friends agagn\n",
      "I will never spam my friends again\n",
      "I wilq never spam my friends again\n",
      "I will never spam my friends again\n",
      "I wyll never spam my friends again\n",
      "I will never spam my friends again\n",
      "I will never spam my friends again\n",
      "I will never spam my friends agahn\n",
      "I will never spam my friends again\n",
      "I will never spam my friendsragain\n",
      "I will never spam my friends again\n",
      "I will nevdr spam my friends again\n",
      "I will never spam my friends again\n",
      "I will never spam my frmends again\n",
      "I will never spam my friends again\n",
      "I will never spam my friends again\n",
      "I will never spam my friends again\n",
      "I will never spam my friends afain\n",
      "I will never spam my friends again\n",
      "I wlll never spam my friends again\n",
      "I will never spam my friends again\n",
      "I will nyver spam my friends again\n",
      "I will never spam my friends again\n",
      "I will never spam mykfriends again\n",
      "I will never spam my friends again\n",
      "I will never spam my friends again\n",
      "I will never spam my friends again\n",
      "I will never spam my friends again\n",
      "I will never spam my friends again\n",
      "I will never spam my friends again\n",
      "I will never spam my friends again\n",
      "I will never spam my friends again\n",
      "I will nhver spam my friends again\n",
      "I will never spam my friends again\n",
      "I will never spam my friends again\n",
      "I will never spam my friqnds again\n",
      "I will never spam my friends again\n",
      "I will never spab my friends again\n",
      "I woll never spam my friends again\n",
      "I will wever spam my friends again\n",
      "I will never spamnmy friends again\n",
      "I wtll never spam my friends again\n",
      "I will never spam my friends again\n",
      "I will never spam my friends again\n",
      "I will never spam my friends again\n",
      "I will never spam my friends again\n",
      "I will never spam my friends again\n",
      "I will never spam my friends again\n",
      "I will never spam my friends again\n",
      "I will never spam my driends again\n",
      "I will never spam my friends again\n",
      "Iiwill never spam my friends again\n",
      "I will never spam my friends again\n",
      "I will never spam my friends axain\n",
      "I will never spamimy friends again\n",
      "I will never spam my friends again\n",
      "f will never spam my friends again\n",
      "I will neqer spam my friends again\n",
      "I will never spamwmy friends again\n",
      "I will never spam my friends agaix\n",
      "I will never spam my friends again\n",
      "I will never spam my griends again\n",
      "I wilg never spam my friends again\n",
      "I will never spam my friends again\n",
      "I will never spam my friends again\n",
      "I will never npam my friends again\n",
      "I will never spam my friinds again\n",
      "I will never spam my friends again\n",
      "I will never spam my friends agbin\n",
      "I will never spam my friends again\n",
      "I kill never spam my friends again\n",
      "I will never spam my frierds again\n",
      "I will never spam my friends again\n",
      "I will never spam my friends again\n",
      "I will never spam my friends again\n",
      "I willmnever spam my friends again\n"
     ]
    }
   ],
   "source": [
    "from random import randrange\n",
    "text= 'I will never spam my friends again'\n",
    "def line_generator(n):\n",
    "    for _ in range(0,n):\n",
    "        text_list = list(text)\n",
    "        there_should_be_error = randrange(0,2)\n",
    "        if there_should_be_error:\n",
    "            while True:\n",
    "                error_position = randrange(0, len(text_list))\n",
    "                if text_list[error_position]!= '':\n",
    "                    break\n",
    "                    \n",
    "            text_list[error_position] = chr(randrange(97,122))\n",
    "        yield ''.join(text_list)\n",
    "\n",
    "for line in line_generator(100):\n",
    "    print(line)"
   ]
  },
  {
   "cell_type": "code",
   "execution_count": 8,
   "id": "ebffa2da-9bbc-4fca-944f-7d0991edbf79",
   "metadata": {},
   "outputs": [
    {
     "data": {
      "text/plain": [
       "' P-1.35 The birthday paradox says that the probability that two people in a room will have the same birthday is more than half, provided n, the number of people in the room, is more than 23. This property is not really a paradox, but many people find it surprising. Design a Python program that can test this paradox by a series of experiments on randomly generated birthdays, which test this paradox for n = 5,10,15,20,...,100. '"
      ]
     },
     "execution_count": 8,
     "metadata": {},
     "output_type": "execute_result"
    }
   ],
   "source": [
    "\"\"\" P-1.35 The birthday paradox says that the probability that two people in a room will have the same birthday is more than half, provided n, the number of people in the room, is more than 23. This property is not really a paradox, but many people find it surprising. Design a Python program that can test this paradox by a series of experiments on randomly generated birthdays, which test this paradox for n = 5,10,15,20,...,100. \"\"\""
   ]
  },
  {
   "cell_type": "code",
   "execution_count": 10,
   "id": "9637f2bf-3ffa-4e1d-98c2-7fc0d315e8d5",
   "metadata": {},
   "outputs": [
    {
     "name": "stdout",
     "output_type": "stream",
     "text": [
      "0.058571325264343166\n"
     ]
    }
   ],
   "source": [
    "def birthday_paradox(n):\n",
    "    prob = 1\n",
    "    for i in range(0,n):\n",
    "        prob*=(365-1)/365\n",
    "    return 1-prob\n",
    "\n",
    "print(birthday_paradox(22))"
   ]
  },
  {
   "cell_type": "code",
   "execution_count": 12,
   "id": "5b53756e-37d4-457c-ae8d-b38a3b69d9d4",
   "metadata": {},
   "outputs": [
    {
     "data": {
      "text/plain": [
       "' P-1.36 Write a Python program that inputs a list of words, separated by whitespace, and outputs how many times each word appears in the list. You need not worry about efficiency at this point, however, as this topic is something that will be addressed later in this book '"
      ]
     },
     "execution_count": 12,
     "metadata": {},
     "output_type": "execute_result"
    }
   ],
   "source": [
    "\"\"\" P-1.36 Write a Python program that inputs a list of words, separated by whitespace, and outputs how many times each word appears in the list. You need not worry about efficiency at this point, however, as this topic is something that will be addressed later in this book \"\"\""
   ]
  },
  {
   "cell_type": "code",
   "execution_count": 14,
   "id": "5fff0171-d4f0-4459-9dc7-8ff02b90de28",
   "metadata": {},
   "outputs": [
    {
     "name": "stdin",
     "output_type": "stream",
     "text": [
      "Enter words:\n",
      " wert rty uio\n"
     ]
    },
    {
     "name": "stdout",
     "output_type": "stream",
     "text": [
      "{'wert': 1, 'uio': 1, 'rty': 1}\n"
     ]
    }
   ],
   "source": [
    "words = input('Enter words:\\n')\n",
    "words = words.split(' ')\n",
    "\n",
    "word_list = set(words)\n",
    "word_count={}\n",
    "for word in word_list:\n",
    "    if word != '':\n",
    "        word_count[word]=words.count(word)\n",
    "        \n",
    "print(word_count)"
   ]
  },
  {
   "cell_type": "code",
   "execution_count": null,
   "id": "386a2fee-df3e-47b3-af84-a7ef1849f39a",
   "metadata": {},
   "outputs": [],
   "source": []
  }
 ],
 "metadata": {
  "kernelspec": {
   "display_name": "Python 3 (ipykernel)",
   "language": "python",
   "name": "python3"
  },
  "language_info": {
   "codemirror_mode": {
    "name": "ipython",
    "version": 3
   },
   "file_extension": ".py",
   "mimetype": "text/x-python",
   "name": "python",
   "nbconvert_exporter": "python",
   "pygments_lexer": "ipython3",
   "version": "3.9.12"
  },
  "toc-autonumbering": false
 },
 "nbformat": 4,
 "nbformat_minor": 5
}
